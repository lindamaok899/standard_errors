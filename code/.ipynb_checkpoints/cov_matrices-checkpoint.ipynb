{
 "cells": [
  {
   "cell_type": "markdown",
   "metadata": {},
   "source": [
    "# Contents\n",
    "This notebook contains:\n",
    "- functions specifying different methods of calculating covariance matrices for hessian and jacobian score contributions. \n",
    "- functions that calculate standard errors for the given covariance matrices"
   ]
  },
  {
   "cell_type": "code",
   "execution_count": 5,
   "metadata": {},
   "outputs": [],
   "source": [
    "# imports\n",
    "import numpy as np\n",
    "import pandas as pd"
   ]
  },
  {
   "cell_type": "code",
   "execution_count": 1,
   "metadata": {},
   "outputs": [],
   "source": [
    "def cov_jacobian(jacobian, nobs):\n",
    "    \n",
    "    \"\"\"Covariance based on outer product of jacobian of loglikeobs.\n",
    "    \n",
    "    Args:\n",
    "        jacobian (np.array): 2d array of dimension (nobs, nparams)\n",
    "        nobs (scalar): number of observations\n",
    "        \n",
    "    Returns:\n",
    "        jacobian_matrix (np.array): 2d array covariance matrix (nparams, nparams)\n",
    "        \n",
    "     Notes:\n",
    "       - in general the hessian and jacobian matrices will not have identical covariance\n",
    "       matrices.\n",
    "       - the hessian estimator typically has somewhat better properties in small samples.\n",
    "       -computation of the jacobian covariance matrix requires requires the individual \n",
    "       likelihood contributions\n",
    "        \n",
    "    Resources: Marno Verbeek - A guide to modern econometrics.\n",
    "    \n",
    "    \"\"\"\n",
    "    \n",
    "    info_matrix = np.dot((jacobian.T), jacobian)/nobs\n",
    "    cov_jac = np.linalg.inv(info_matrix)\n",
    "            \n",
    "    return cov_jac"
   ]
  },
  {
   "cell_type": "code",
   "execution_count": 2,
   "metadata": {},
   "outputs": [],
   "source": [
    "def cov_hessian(hessian, nobs):\n",
    "    \n",
    "    \"\"\"Covariance based on the negative inverse of the hessian of loglike.\n",
    "    \n",
    "    Args:\n",
    "        hessian (np.array): 2d array of dimension (nparams, nparams)\n",
    "        nobs (scalar): number of observations\n",
    "        \n",
    "    Returns:\n",
    "       hessian_matrix (np.array): 2d array covariance matrix (nparams, nparams)\n",
    "       \n",
    "   Notes:\n",
    "       - in general the hessian and jacobian matrices will not have identical covariance\n",
    "       matrices.\n",
    "       - the hessian estimator typically has somewhat better properties in small samples.\n",
    "       - computation of the jacobian covariance matrix requires the individual likelihood \n",
    "       contributions.\n",
    "   \n",
    "    Resources: Marno Verbeek - A guide to modern econometrics.\n",
    "    \n",
    "    \"\"\"\n",
    "    info_matrix = -1 * ((np.dot(np.transpose(hessian), hessian)/nobs))\n",
    "    cov_hes = np.linalg.inv(info_matrix)\n",
    "\n",
    "    return cov_hes"
   ]
  },
  {
   "cell_type": "code",
   "execution_count": 18,
   "metadata": {},
   "outputs": [],
   "source": [
    "def cov_sandwich(jacobian, nobs):\n",
    "    \n",
    "    \"\"\"Covariance of parameters based on HJJH dot product of Hessian, Jacobian, Jacobian, Hessian of likelihood.\n",
    "    \n",
    "    Args:\n",
    "        jacobian (np.array): 2d array of dimension (nobs, nparams)\n",
    "        nobs (scalar): number of observations\n",
    "        \n",
    "    Returns:\n",
    "        sandwich_cov (np.array): 2d array covariance HJJH matrix (nparams, nparams)\n",
    "        \n",
    "    Resources:\n",
    "    (https://github.com/statsmodels/statsmodels/blob/a33424eed4cacbeacc737d40fe5700daf39463f6/statsmodels/base/model.py#L2194)\n",
    "    \n",
    "    \"\"\"\n",
    "\n",
    "    info_matrix = np.dot((jacobian.T), jacobian)/nobs\n",
    "    cov_hes = cov_hessian(hessian, nobs)\n",
    "    sandwich_cov = np.dot(cov_hes, np.dot(info_matrix, cov_hes))\n",
    "\n",
    "    return sandwich_cov\n"
   ]
  },
  {
   "cell_type": "code",
   "execution_count": 19,
   "metadata": {},
   "outputs": [],
   "source": [
    "def se_calculations(function):\n",
    "    \n",
    "        \"\"\"standard deviation of parameter estimates based on the function of choice.\n",
    "        \n",
    "        Returns:\n",
    "            standard_errors (np.array): 1d array of dimension (nparams) with standard errors.\n",
    "        \n",
    "        Notes:\n",
    "            - to use this function, replace 'function' with the covariance matrix function for \n",
    "            which you would like to get standard errors.\n",
    "        \n",
    "        \"\"\"\n",
    "        standard_errors = np.sqrt(np.diag(function(jacobian, nobs)))\n",
    "        \n",
    "        return standard_errors"
   ]
  },
  {
   "cell_type": "code",
   "execution_count": null,
   "metadata": {},
   "outputs": [],
   "source": []
  }
 ],
 "metadata": {
  "kernelspec": {
   "display_name": "Python 3",
   "language": "python",
   "name": "python3"
  },
  "language_info": {
   "codemirror_mode": {
    "name": "ipython",
    "version": 3
   },
   "file_extension": ".py",
   "mimetype": "text/x-python",
   "name": "python",
   "nbconvert_exporter": "python",
   "pygments_lexer": "ipython3",
   "version": "3.7.3"
  }
 },
 "nbformat": 4,
 "nbformat_minor": 2
}
