{
 "cells": [
  {
   "cell_type": "markdown",
   "metadata": {},
   "source": [
    "# Contents\n",
    "This notebook contains:\n",
    "- functions specifying different methods of calculating covariance matrices for hessian and jacobian score contributions. \n",
    "- functions that calculate standard errors for the given covariance matrices"
   ]
  },
  {
   "cell_type": "code",
   "execution_count": 5,
   "metadata": {},
   "outputs": [],
   "source": [
    "# imports\n",
    "import numpy as np\n",
    "import pandas as pd"
   ]
  },
  {
   "cell_type": "code",
   "execution_count": 6,
   "metadata": {},
   "outputs": [],
   "source": [
    "def cov_jacobian(jacobian, nobs):\n",
    "    \n",
    "    \"\"\"Covariance based on outer product of jacobian of loglikeobs.\n",
    "    \n",
    "    See here for the statsmodels implementation:\n",
    "    https://github.com/statsmodels/statsmodels/blob/a33424eed4cacbeacc737d40fe5700daf39463f6/statsmodels/base/model.py#L2180\n",
    "    \n",
    "    Args:\n",
    "        jacobian (np.array): 2d array of dimension (nobs, nparams)\n",
    "    \"\"\"\n",
    "    \n",
    "    jacobian_matrix = np.linalg.inv(np.dot(np.transpose(jacobian), jacobian)/nobs)\n",
    "            \n",
    "    return jacobian_matrix\n",
    "\n",
    "\n",
    "def se_jacobian():\n",
    "        \"\"\"standard errors of parameter estimates based on cov_jacobian\n",
    "        \"\"\"\n",
    "        jacobian_se = np.sqrt(np.diag(cov_jacobian(jacobian, nobs)))\n",
    "        \n",
    "        return jacobian_se\n"
   ]
  },
  {
   "cell_type": "code",
   "execution_count": 7,
   "metadata": {},
   "outputs": [],
   "source": [
    "def cov_hessian(hessian, nobs):\n",
    "    \"\"\"Covariance based on the negative inverse of the hessian of loglike.\n",
    "    \n",
    "    Args:\n",
    "        hessian (np.array): 2d array of dimension (nparams, nparams)\n",
    "        nobs (int)\n",
    "    \n",
    "    \"\"\"\n",
    "    \n",
    "    hessian_matrix = np.linalg.inv(np.multiply(-1, (np.dot(np.transpose(hessian), hessian)/nobs)))\n",
    "\n",
    "    return hessian_matrix\n",
    "\n",
    "def se_hessian():\n",
    "        \"\"\"standard deviation of parameter estimates based on cov_hessian\n",
    "        \"\"\"\n",
    "        \n",
    "        hessian_se = np.sqrt(np.diag(cov_hessian(hessian, nobs)))\n",
    "        \n",
    "        return hessian_se\n"
   ]
  },
  {
   "cell_type": "code",
   "execution_count": 9,
   "metadata": {},
   "outputs": [],
   "source": [
    "def cov_sandwich(jacobian, nobs):\n",
    "        \"\"\"covariance of parameters based on HJJH\n",
    "        dot product of Hessian, Jacobian, Jacobian, Hessian of likelihood\n",
    "        name should be covhjh\n",
    "        \"\"\"\n",
    "        \n",
    "        jacobian_inv = np.dot(np.transpose(jacobian), jacobian)/nobs\n",
    "        hessian_inv = cov_hessian(hessian, nobs)\n",
    "        sandwich_cov = np.dot(hessian_inv, np.dot(jacobian_inv, hessian_inv))\n",
    "        \n",
    "        return sandwich_cov\n",
    "    \n",
    "def se_cov_sandwich():\n",
    "        \"\"\"standard deviation of parameter estimates based on cov_sandwich\n",
    "        \"\"\"\n",
    "        cov_sandwich_se = np.sqrt(np.diag(cov_sandwich(jacobian, nobs)))\n",
    "        \n",
    "        return cov_sandwich_se\n"
   ]
  },
  {
   "cell_type": "code",
   "execution_count": null,
   "metadata": {},
   "outputs": [],
   "source": []
  }
 ],
 "metadata": {
  "kernelspec": {
   "display_name": "Python 3",
   "language": "python",
   "name": "python3"
  },
  "language_info": {
   "codemirror_mode": {
    "name": "ipython",
    "version": 3
   },
   "file_extension": ".py",
   "mimetype": "text/x-python",
   "name": "python",
   "nbconvert_exporter": "python",
   "pygments_lexer": "ipython3",
   "version": "3.7.3"
  }
 },
 "nbformat": 4,
 "nbformat_minor": 2
}
