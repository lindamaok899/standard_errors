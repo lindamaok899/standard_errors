{
 "cells": [
  {
   "cell_type": "code",
   "execution_count": null,
   "metadata": {},
   "outputs": [],
   "source": [
    "#imports\n",
    "import numpy as np\n",
    "import pandas as pd"
   ]
  },
  {
   "cell_type": "code",
   "execution_count": null,
   "metadata": {},
   "outputs": [],
   "source": [
    "#inputs\n",
    "jacobian = pd.DataFrame(\n",
    "        data=[\n",
    "                [1, 2, 3],\n",
    "                [0, 1, 4],\n",
    "                [0, 2.5, 5],\n",
    "                [1.5, 7, 6]\n",
    "            ]\n",
    "        )\n",
    "\n",
    "hessian = pd.DataFrame(\n",
    "        data=[\n",
    "                [1, 2, 3],\n",
    "                [0, 1, 4],\n",
    "                [0, 2.5, 5],\n",
    "                [1.5, 7, 6]\n",
    "            ]\n",
    "        )\n",
    "\n",
    "nobs = len(jacobian)"
   ]
  }
 ],
 "metadata": {
  "kernelspec": {
   "display_name": "Python 3",
   "language": "python",
   "name": "python3"
  },
  "language_info": {
   "codemirror_mode": {
    "name": "ipython",
    "version": 3
   },
   "file_extension": ".py",
   "mimetype": "text/x-python",
   "name": "python",
   "nbconvert_exporter": "python",
   "pygments_lexer": "ipython3",
   "version": "3.7.3"
  }
 },
 "nbformat": 4,
 "nbformat_minor": 2
}
