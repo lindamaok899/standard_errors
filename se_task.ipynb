{
 "cells": [
  {
   "cell_type": "markdown",
   "metadata": {},
   "source": [
    "## Standard Error Task\n",
    "\n",
    "We want to calculate standard errors for parameter estimates of likelihood models. More specifically, we want the full covariance matrix of the estimated parameters. There are different ways to calculate those covariance matrices, but in all cases they are based on some kind of derivative of the log likelihood function (loglike) or the log likelihood function per observation (loglikeobs). \n",
    "\n",
    "We already have function for numerical differentiation, now you have to write functions to calculate covariance matrices based on them. \n",
    "\n",
    "The involved derivatives are:\n",
    "\n",
    "- the jacobian of the log likelihood function per observation (referred to as only jacobian or j)\n",
    "- the hessian of the log likelihood function (referred to as only hessian or h)\n",
    "\n",
    "We want at least the following functions:"
   ]
  },
  {
   "cell_type": "code",
   "execution_count": 3,
   "metadata": {},
   "outputs": [],
   "source": [
    "def cov_jacobian(jacobian):\n",
    "    \"\"\"Covariance based on outer product of jacobian of loglikeobs.\n",
    "    \n",
    "    See here for the statsmodels implementation:\n",
    "    https://github.com/statsmodels/statsmodels/blob/a33424eed4cacbeacc737d40fe5700daf39463f6/statsmodels/base/model.py#L2180\n",
    "    \n",
    "    Args:\n",
    "        jacobian (np.array): 2d array of dimension (nobs, nparams)\n",
    "    \"\"\"\n",
    "    pass\n",
    "\n",
    "\n",
    "def cov_hessian(hessian, nobs):\n",
    "    \"\"\"Covariance based on the negative inverse of the hessian of loglike.\n",
    "    \n",
    "    Args:\n",
    "        hessian (np.array): 2d array of dimension (nparams, nparams)\n",
    "        nobs (int)\n",
    "    \n",
    "    Must be somewhere in statsmodels :-)\n",
    "    \n",
    "    \"\"\"\n",
    "    pass\n",
    "\n",
    "\n",
    "def cov_sandwich(jacobian, hessian):\n",
    "    \"\"\"Covariance based on HJJH.\n",
    "    \n",
    "    See here for the statsmodels implementation:\n",
    "    https://github.com/statsmodels/statsmodels/blob/a33424eed4cacbeacc737d40fe5700daf39463f6/statsmodels/base/model.py#L2194\n",
    "    \n",
    "    \"\"\""
   ]
  },
  {
   "cell_type": "markdown",
   "metadata": {},
   "source": [
    "It would also be good if you read up on the topic (for example in Econometric Analysis, Greene). I think some of the methods require stricter assumptions than others. Maybe there are also some methods I did not know of, then you can add them. Please incorporate all the information you can find on the different methods into the docstrings. \n",
    "\n",
    "It might also be a good idea to check the documentations of stata and R on likelihood models.\n",
    "\n",
    "Of course you can copy as much as you want from statsmodels or any other code you find. \n",
    "\n",
    "Please also write tests. So in the end there should be one module called `likelihood_covs.py` and one called `test_likelihood_covs.py`.\n",
    "\n",
    "\n",
    "\n"
   ]
  },
  {
   "cell_type": "code",
   "execution_count": null,
   "metadata": {},
   "outputs": [],
   "source": []
  }
 ],
 "metadata": {
  "kernelspec": {
   "display_name": "Python 3",
   "language": "python",
   "name": "python3"
  },
  "language_info": {
   "codemirror_mode": {
    "name": "ipython",
    "version": 3
   },
   "file_extension": ".py",
   "mimetype": "text/x-python",
   "name": "python",
   "nbconvert_exporter": "python",
   "pygments_lexer": "ipython3",
   "version": "3.7.3"
  }
 },
 "nbformat": 4,
 "nbformat_minor": 2
}
